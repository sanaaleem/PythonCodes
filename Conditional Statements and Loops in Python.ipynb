{
 "cells": [
  {
   "cell_type": "code",
   "execution_count": 13,
   "metadata": {},
   "outputs": [
    {
     "name": "stdout",
     "output_type": "stream",
     "text": [
      "Entering Volume6\n",
      "Entering height9\n",
      "Entering depth2\n",
      "Extra Large\n",
      "108\n"
     ]
    }
   ],
   "source": [
    "\"\"\"Cabinets and Boxes are objects that are mostly in cubic shape. Make a program that takes inputs like height, width and depth from user and then calculate volume of the cube:\n",
    "volume = height ∗ width ∗ depth\n",
    "After calculating volume of cube, compare it with following ranges and print the relevant label:\n",
    "Volume Range\tLabel\n",
    "1 cm3 – 10 cm3\tExtra Small\n",
    "11 cm3 – 25 cm3\tSmall\n",
    "26 cm3 – 75 cm3\tMedium\n",
    "76 cm3 – 100 cm3\tLarge\n",
    "101 cm3 – 250 cm3\tExtra Large\n",
    "251 cm3 and above\tExtra-Extra Large\"\"\"\n",
    "\n",
    "\n",
    "\n",
    "width=int(input(\"Entering Volume\"))\n",
    "\n",
    "height=int(input(\"Entering height\"))\n",
    "\n",
    "depth=int(input(\"Entering depth\"))\n",
    "\n",
    "volume = height * width * depth\n",
    "\n",
    "if (volume >=1 and volume<=10):\n",
    "   print (\"Extra Small\")\n",
    "   print(volume)\n",
    "elif (volume >10 and volume<=25):\n",
    "   print (\"small\")\n",
    "   print (volume)\n",
    "elif (volume >25 and volume<=75):\n",
    "   print (\"Medium\")\n",
    "   print (volume)\n",
    "elif (volume >75 and volume<=100):\n",
    "   print (\"Large\")\n",
    "   print (volume)\n",
    "elif (volume >100 and volume<=250):\n",
    "   print (\"Extra Large\")\n",
    "   print (volume)\n",
    "elif (volume >251 ):\n",
    "   print( \"Extra Extra Large\")\n",
    "   print (volume)\n",
    "else:\n",
    "   print (\"this size is not available\")\n",
    "   print (volume)\n",
    "   print (\"Good bye!\")\n",
    "\n",
    "\n",
    "\n",
    "\n",
    "\n"
   ]
  },
  {
   "cell_type": "code",
   "execution_count": 14,
   "metadata": {},
   "outputs": [
    {
     "name": "stdout",
     "output_type": "stream",
     "text": [
      "Enter working hour(s)6\n",
      "worker needs to be fired\n"
     ]
    }
   ],
   "source": [
    "\"\"\"(II)In a company ,worker efficiency is determined on the basis of the time required for a worker to complete a particular job.\n",
    "If the  time taken by the worker is between 2-3 hours then the worker is said to be highly efficient. \n",
    "If the time required by the worker is between 3-4hours,then the worker is ordered to improve speed.\n",
    "If the time taken is between 4-5 hours ,the worker is given training to improve his speed ,\n",
    "and if the time taken by the worker is more than 5 hours ,then the worker  haas to leave the company,\n",
    "If the time taken by the worker is input through the keyboard,find the efficiency of the worker.\"\"\"\n",
    "\n",
    "hours=int(input(\"Enter working hour(s)\"))\n",
    "if (hours >=2 and hours<=3):\n",
    "   print (\"worker is highly efficient\")\n",
    " \n",
    "elif (hours >3 and hours<=4):\n",
    "   print (\"worker needs to be ordered to improve speed\")\n",
    "   \n",
    "elif (hours >4 and hours<=5):\n",
    "   print (\"training should be provided to improve worker's speed\")\n",
    "\n",
    "elif (hours >5):\n",
    "   print (\"worker needs to be fired\")\n",
    "  "
   ]
  },
  {
   "cell_type": "code",
   "execution_count": 15,
   "metadata": {},
   "outputs": [
    {
     "name": "stdout",
     "output_type": "stream",
     "text": [
      "enter usernamezagota\n",
      "enter passwordabc$123\n",
      "welcome zagota\n"
     ]
    }
   ],
   "source": [
    "\"\"\"(iii)The program must prompt the user for a username and password. \n",
    "The program should compare the password given by the user to a known password. \n",
    "If the password matches, the program should display “Welcome!” \n",
    "If it doesn’t match, the program should display “I don’t know you.\n",
    " Note: the password should not be case sensitive and it’s value is abc$123 or ABC$123\n",
    "\"\"\"\n",
    "uName=input(\"enter username\")\n",
    "pas=input(\"enter password\")\n",
    "if (pas=='abc$123' or pas=='ABC$123'):\n",
    "   print (\"welcome \" + uName)\n",
    "else:\n",
    "    print (\"I don't know you\")\n",
    "\n"
   ]
  },
  {
   "cell_type": "code",
   "execution_count": 16,
   "metadata": {},
   "outputs": [
    {
     "name": "stdout",
     "output_type": "stream",
     "text": [
      "2\n",
      "1\n",
      "0\n",
      "-1\n"
     ]
    }
   ],
   "source": [
    "n = 3\n",
    "while n >= 0:\n",
    "    n -= 1\n",
    "    print(n)\n",
    "\n"
   ]
  },
  {
   "cell_type": "code",
   "execution_count": 18,
   "metadata": {},
   "outputs": [
    {
     "name": "stdout",
     "output_type": "stream",
     "text": [
      "3\n",
      "2\n",
      "1\n",
      "0\n"
     ]
    }
   ],
   "source": [
    "\"\"\"(ii): What Would Python Print?\"\"\"\n",
    "# typing Ctrl-C will stop infinite loops\n",
    "n = 4\n",
    "while n > 0:\n",
    "    n -= 1\n",
    "    print(n)"
   ]
  },
  {
   "cell_type": "code",
   "execution_count": 20,
   "metadata": {},
   "outputs": [
    {
     "name": "stdout",
     "output_type": "stream",
     "text": [
      "enter country range4\n",
      "enter country  Canada\n",
      "enter country  USA\n",
      "enter country  Mexico\n",
      "enter country  Australia\n",
      "['Canada', 'USA', 'Mexico', 'Australia']\n"
     ]
    }
   ],
   "source": [
    "\"\"\"(ii)Try the scenrio below:\n",
    " Make a program that lists the countries in the set\n",
    "clist = ['Canada','USA','Mexico','Australia']\"\"\"\n",
    "n=int(input(\"enter country range\"))\n",
    "list=[]\n",
    "for i in range(0,n):\n",
    "    country=input(\"enter country  \")\n",
    "    list.append(country)\n",
    "print(list)\n",
    "\n"
   ]
  },
  {
   "cell_type": "code",
   "execution_count": 5,
   "metadata": {},
   "outputs": [
    {
     "name": "stdout",
     "output_type": "stream",
     "text": [
      "1\n",
      "2\n",
      "3\n",
      "4\n",
      "5\n",
      "6\n",
      "7\n",
      "8\n",
      "9\n",
      "10\n",
      "11\n",
      "12\n",
      "13\n",
      "14\n",
      "15\n",
      "16\n",
      "17\n",
      "18\n",
      "19\n",
      "20\n",
      "21\n",
      "22\n",
      "23\n",
      "24\n",
      "25\n",
      "26\n",
      "27\n",
      "28\n",
      "29\n",
      "30\n",
      "31\n",
      "32\n",
      "33\n",
      "34\n",
      "35\n",
      "36\n",
      "37\n",
      "38\n",
      "39\n",
      "40\n",
      "41\n",
      "42\n",
      "43\n",
      "44\n",
      "45\n",
      "46\n",
      "47\n",
      "48\n",
      "49\n",
      "50\n",
      "51\n",
      "52\n",
      "53\n",
      "54\n",
      "55\n",
      "56\n",
      "57\n",
      "58\n",
      "59\n",
      "60\n",
      "61\n",
      "62\n",
      "63\n",
      "64\n",
      "65\n",
      "66\n",
      "67\n",
      "68\n",
      "69\n",
      "70\n",
      "71\n",
      "72\n",
      "73\n",
      "74\n",
      "75\n",
      "76\n",
      "77\n",
      "78\n",
      "79\n",
      "80\n",
      "81\n",
      "82\n",
      "83\n",
      "84\n",
      "85\n",
      "86\n",
      "87\n",
      "88\n",
      "89\n",
      "90\n",
      "91\n",
      "92\n",
      "93\n",
      "94\n",
      "95\n",
      "96\n",
      "97\n",
      "98\n",
      "99\n",
      "100\n"
     ]
    }
   ],
   "source": [
    "\"\"\"for number in range(100):\n",
    "    print(number)\"\"\"\n",
    "for number in range(0,100):\n",
    "    print(number+1)\n"
   ]
  },
  {
   "cell_type": "code",
   "execution_count": 10,
   "metadata": {},
   "outputs": [
    {
     "name": "stdout",
     "output_type": "stream",
     "text": [
      "Display multiplication table of? 2\n",
      "2 x 1 = 2\n",
      "2 x 2 = 4\n",
      "2 x 3 = 6\n",
      "2 x 4 = 8\n",
      "2 x 5 = 10\n",
      "2 x 6 = 12\n",
      "2 x 7 = 14\n",
      "2 x 8 = 16\n",
      "2 x 9 = 18\n",
      "2 x 10 = 20\n"
     ]
    }
   ],
   "source": [
    "#Make a multiplication table using a loop\n",
    "\n",
    "\n",
    "num = int(input(\"Display multiplication table of? \"))\n",
    "\n",
    "for i in range(1, 11):\n",
    "   print(num , \"x\" , i , \"=\"  , num*i)"
   ]
  },
  {
   "cell_type": "code",
   "execution_count": 12,
   "metadata": {},
   "outputs": [
    {
     "name": "stdout",
     "output_type": "stream",
     "text": [
      "10\n",
      "9\n",
      "8\n",
      "7\n",
      "6\n",
      "5\n",
      "4\n",
      "3\n",
      "2\n",
      "1\n"
     ]
    }
   ],
   "source": [
    "#. Output the numbers 1 to 10 backwards using a loop\n",
    "for number in range(10,0,-1):\n",
    "    print(number)\n"
   ]
  },
  {
   "cell_type": "code",
   "execution_count": 14,
   "metadata": {},
   "outputs": [
    {
     "name": "stdout",
     "output_type": "stream",
     "text": [
      "0\n",
      "2\n",
      "4\n",
      "6\n",
      "8\n",
      "10\n"
     ]
    }
   ],
   "source": [
    "#Create a loop that counts all even numbers to 10\n",
    "for number in range(0,11):\n",
    "    if (number%2==0):\n",
    "        print(number)"
   ]
  },
  {
   "cell_type": "code",
   "execution_count": 18,
   "metadata": {},
   "outputs": [
    {
     "name": "stdout",
     "output_type": "stream",
     "text": [
      "15150\n"
     ]
    }
   ],
   "source": [
    "#Create a loop that sums the numbers from 100 to 200\n",
    "sum=0\n",
    "for number in range(100,201):\n",
    "    sum=sum+number\n",
    "print(sum)"
   ]
  },
  {
   "cell_type": "code",
   "execution_count": 19,
   "metadata": {},
   "outputs": [
    {
     "name": "stdout",
     "output_type": "stream",
     "text": [
      "enter country range3\n",
      "enter country  Canada\n",
      "enter country  USA\n",
      "enter country  Mexico\n",
      "['Canada', 'USA', 'Mexico']\n"
     ]
    }
   ],
   "source": [
    "\"\"\"Make a program that lists the countries in the set below using a while loop.\n",
    "clist = [\"Canada\",\"USA\",\"Mexico\"]\"\"\"\n",
    "\n",
    "list=[]\n",
    "n=int(input(\"enter country range\"))\n",
    "x = 0                             \n",
    "while x < n:\n",
    "    country=input(\"enter country  \")\n",
    "    list.append(country)\n",
    "    x = x + 1\n",
    "print(list)"
   ]
  },
  {
   "cell_type": "code",
   "execution_count": 4,
   "metadata": {},
   "outputs": [
    {
     "name": "stdout",
     "output_type": "stream",
     "text": [
      "Can you sum numbers in a while loop?\n",
      "Ans =Yes\n",
      "sum using while loop  210\n"
     ]
    }
   ],
   "source": [
    "# What’s the difference between a while loop and a for loop?\n",
    "#Ans:While loop is used in situations where we do not know how many times loop needs to be excuted beforehand. For loop is used where we already know about the number of times loop needs to be excuted. Typically for a index used in iteration.\n",
    "print(\"Can you sum numbers in a while loop?\")\n",
    "print(\"Ans =Yes\")\n",
    "n = 20\n",
    "total_numbers = n\n",
    "sum=0\n",
    "while (n >= 0):\n",
    "    sum += n\n",
    "    n-=1\n",
    "print (\"sum using while loop \", sum)"
   ]
  },
  {
   "cell_type": "code",
   "execution_count": null,
   "metadata": {},
   "outputs": [],
   "source": [
    "#Can a for loop be used inside a while loop?\n",
    "#Ans:It is not mandatory to nest same type of loop. We can put a for loop inside a while loop or a do-while loop inside a for loop."
   ]
  }
 ],
 "metadata": {
  "kernelspec": {
   "display_name": "Python 3",
   "language": "python",
   "name": "python3"
  },
  "language_info": {
   "codemirror_mode": {
    "name": "ipython",
    "version": 3
   },
   "file_extension": ".py",
   "mimetype": "text/x-python",
   "name": "python",
   "nbconvert_exporter": "python",
   "pygments_lexer": "ipython3",
   "version": "3.6.5"
  }
 },
 "nbformat": 4,
 "nbformat_minor": 2
}
