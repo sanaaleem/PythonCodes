{
 "cells": [
  {
   "cell_type": "code",
   "execution_count": 1,
   "metadata": {},
   "outputs": [
    {
     "name": "stdout",
     "output_type": "stream",
     "text": [
      "Python is an interpreted, high-level,\n",
      "general-purpose \n",
      "programming language.\n",
      "Created by Guido van \t Rossum and first released in 1991\n"
     ]
    }
   ],
   "source": [
    "\"\"\"QNO1:\n",
    "Write a Python program to print the following string in a specific format (\n",
    " \n",
    "Sample String : \" Python is an interpreted, high-level, general-purpose programming language. Created by Guido van Rossum and first released in 1991\" \n",
    "Output :\n",
    "Python is an interpreted, high-level, \n",
    "general-purpose \n",
    "programming language. \n",
    "Created by Guido van\t\t Rossum and first released in 1991\n",
    "\"\"\"\n",
    "\n",
    "Sample_string=\"Python is an interpreted, high-level,\\ngeneral-purpose \\nprogramming language.\\nCreated by Guido van \\t Rossum and first released in 1991\" \n",
    "print(Sample_string)"
   ]
  },
  {
   "cell_type": "code",
   "execution_count": 2,
   "metadata": {},
   "outputs": [
    {
     "name": "stdout",
     "output_type": "stream",
     "text": [
      "Enter a number: 2\n",
      "4\n"
     ]
    }
   ],
   "source": [
    "\"\"\"QNO2:\n",
    "   \t\t\t\n",
    "Write a program a python program to find the square of any number using\n",
    "the function:\n",
    "Output:\n",
    "Input any number: 2\n",
    "The square root of 2 is :4\n",
    "\"\"\"\n",
    "\n",
    "a = int(input(\"Enter a number: \"))\n",
    "ans=pow(a,2)\n",
    "print(ans)"
   ]
  },
  {
   "cell_type": "code",
   "execution_count": 21,
   "metadata": {},
   "outputs": [
    {
     "name": "stdout",
     "output_type": "stream",
     "text": [
      "4th element is 3.2 and 5th element is 1.5\n",
      "[8] is repeated in the list\n",
      "10 is not in list\n"
     ]
    }
   ],
   "source": [
    "\"\"\"QNO3:\n",
    " \n",
    "Write a Python program to create a tuple and perform following operations :\n",
    "Sample ( 8,9,6, 3.2,1.5,4.4,8)\n",
    "● get the 4th element and 5 th element\n",
    "● find the repeated items \n",
    "● check whether an element(10) exists within a tuple\n",
    "\"\"\"\n",
    "list=[ 8,9,6, 3.2,1.5,4.4,8]\n",
    "count=0;\n",
    "print(\"4th element is\" , list[3] , \"and 5th element is\" ,list[4])\n",
    "##########################\n",
    "def Repeat(x): \n",
    "    _size = len(x) \n",
    "    repeated = [] \n",
    "    for i in range(_size): \n",
    "        k = i + 1\n",
    "        for j in range(k, _size): \n",
    "            if x[i] == x[j] and x[i] not in repeated: \n",
    "                repeated.append(x[i]) \n",
    "    return repeated \n",
    "  \n",
    "\n",
    "\n",
    "print (Repeat(list), \"is repeated in the list\") \n",
    "      \n",
    "# This code is contributed  \n",
    "# by Sandeep_anand\n",
    "#########################\n",
    "for i in range (len(list)):\n",
    "   \n",
    "    if list[i]==10:\n",
    "        print(\"10 is found at \",[i+1],\"position\")\n",
    "        count=1\n",
    "       \n",
    "if count==0:\n",
    "        print(\"10 is not in list\")\n"
   ]
  },
  {
   "cell_type": "code",
   "execution_count": 4,
   "metadata": {},
   "outputs": [
    {
     "name": "stdout",
     "output_type": "stream",
     "text": [
      "9 is the largest number\n",
      "list after removing duplicate items {1.5, 3.2, 4.4, 6, 8, 9}\n",
      "True\n"
     ]
    }
   ],
   "source": [
    "\"\"\"QNO4:\n",
    "Write a python program to perform following operations on a list.\n",
    "Write a Python program to get the largest number from a list\n",
    "Write a Python program to remove duplicates from a list.\n",
    "Write a Python function that takes two lists and returns True if they have at least one common member\n",
    "\"\"\"\n",
    "list=[ 8,9,6, 3.2,1.5,4.4,8]\n",
    "temp=list[i]\n",
    "for i in range (len(list)):\n",
    "    if list[i]>temp:\n",
    "        temp=list[i]\n",
    "print(temp,\"is the largest number\")\n",
    "\n",
    "dup_items = set()\n",
    "uniq_items = []\n",
    "for x in list:\n",
    "    if x not in dup_items:\n",
    "        uniq_items.append(x)\n",
    "        dup_items.add(x)\n",
    "\n",
    "print(\"list after removing duplicate items\", dup_items)\n",
    "\n",
    "list1=[5,8,22,88,100]\n",
    "list2=[33,7,22,45,123]\n",
    "def common_data(list1, list2):\n",
    "     result = False\n",
    "     for x in list1:\n",
    "         for y in list2:\n",
    "             if x == y:\n",
    "                 result = True\n",
    "                 return result\n",
    "print(common_data(list1, list2))\n"
   ]
  },
  {
   "cell_type": "code",
   "execution_count": 19,
   "metadata": {},
   "outputs": [
    {
     "name": "stdout",
     "output_type": "stream",
     "text": [
      "Enter string: hello\n",
      "5\n",
      "olleh\n",
      "hello\n",
      "HELLO\n",
      "1st character h last character o\n"
     ]
    }
   ],
   "source": [
    "\"\"\"Input any string and perform the given operations.\n",
    "Count length of string\n",
    "Reverse string\n",
    "Convert in lower case or upper case\n",
    "Access 1st and last character of string\n",
    "\"\"\"\n",
    "str=input(\"Enter string: \")\n",
    "print(len(str))\n",
    "txt = str[::-1]\n",
    "print(txt)\n",
    "print(str.lower())\n",
    "print(str.upper())\n",
    "print(\"1st character\",str[0],\"last character\",str[len(str)-1])"
   ]
  },
  {
   "cell_type": "code",
   "execution_count": null,
   "metadata": {},
   "outputs": [],
   "source": []
  }
 ],
 "metadata": {
  "kernelspec": {
   "display_name": "Python 3",
   "language": "python",
   "name": "python3"
  },
  "language_info": {
   "codemirror_mode": {
    "name": "ipython",
    "version": 3
   },
   "file_extension": ".py",
   "mimetype": "text/x-python",
   "name": "python",
   "nbconvert_exporter": "python",
   "pygments_lexer": "ipython3",
   "version": "3.6.5"
  }
 },
 "nbformat": 4,
 "nbformat_minor": 2
}
