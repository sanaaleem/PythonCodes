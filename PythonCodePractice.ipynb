{
 "cells": [
  {
   "cell_type": "code",
   "execution_count": 1,
   "metadata": {},
   "outputs": [
    {
     "name": "stdout",
     "output_type": "stream",
     "text": [
      "let's coding\n",
      "['where', 'have', 'you', 'been', '?']\n",
      "['hello world']\n",
      "strip is going to remove space from starting and ending\n",
      "NOW SWAPCASE WILL CHANGE WORD CASES\n",
      "Here Is My Title In Correct Form\n",
      "LET ME ASK YOU A QUESTION>\n",
      "00000000000000000018\n"
     ]
    }
   ],
   "source": [
    "\"\"\"Excersise Dir \n",
    "#String Function Using Dir\n",
    "\"\"\"\n",
    "x =\"let's party\"\n",
    "print(x.replace(\"party\",\"coding\"))\n",
    "y=\"where have you been ?\"\n",
    "print(y.split())\n",
    "z=\"hello world\"\n",
    "print(z.splitlines())\n",
    "a=\"  strip is going to remove space from starting and ending\"\n",
    "print(a.strip())\n",
    "b=\"now swapcase will change word cases\"\n",
    "print(b.swapcase())\n",
    "c=\"hEre is my TiTle in correct form\"\n",
    "print(c.title())\n",
    "d=\"let me ask you a question>\"\n",
    "print(d.upper())\n",
    "age = \"18\"\n",
    "e = age.zfill(20)\n",
    "print(e)\n"
   ]
  },
  {
   "cell_type": "code",
   "execution_count": 2,
   "metadata": {},
   "outputs": [
    {
     "name": "stdout",
     "output_type": "stream",
     "text": [
      "ater swapping a= 9 b= 8 c= 56  d= 2\n"
     ]
    }
   ],
   "source": [
    "\"\"\"(i)Write a Python program to swap 4 variables values (input four values.\n",
    "Sample input:\n",
    "Before swapping\n",
    "a=2,b=56,c=78,d=9\n",
    "After Swapping\n",
    "a=,9,b=78,c=56,d=2\n",
    "\"\"\"\n",
    "a=2\n",
    "b=56\n",
    "c=8\n",
    "d=9\n",
    "a,d=d,a\n",
    "b,c=c,b\n",
    "\n",
    "print(\"ater swapping\",\"a=\", a,\"b=\",b,\"c=\",c ,\" d=\",d)\n",
    "\n"
   ]
  },
  {
   "cell_type": "code",
   "execution_count": 3,
   "metadata": {},
   "outputs": [
    {
     "name": "stdout",
     "output_type": "stream",
     "text": [
      "for entering temp in celcius press 1 \n",
      " for fahrenheit press 2 2\n",
      "enter temp140\n",
      "celcius 60.0\n"
     ]
    }
   ],
   "source": [
    "\"\"\"Write a Python program to convert temperatures to and from celsius,\n",
    "Fahrenheit.\n",
    "\"\"\"\n",
    "i=int(input(\"for entering temp in celcius press 1 \\n for fahrenheit press 2 \"))\n",
    "temp=int(input(\"enter temp\"))\n",
    "count=0\n",
    "celcius=((temp-32)*5)/9\n",
    "fahrenheit=((temp/5)*9)+32\n",
    "\n",
    "if i==1:\n",
    "    print(\"fahrenheit\",fahrenheit)\n",
    "    count=1\n",
    "if i==2:    \n",
    "    print(\"celcius\", celcius)\n",
    "    count=1\n",
    "if count==0:\n",
    "    print(\"invalid input\")"
   ]
  },
  {
   "cell_type": "code",
   "execution_count": 13,
   "metadata": {},
   "outputs": [
    {
     "name": "stdout",
     "output_type": "stream",
     "text": [
      "[1, 2, 'hello', 'where', 55.7]\n",
      "[55.7, 'where', 'hello', 2, 1]\n",
      "[55.7, 'where', 'hello', 2, 1, 'world']\n",
      "[55.7, 'hello', 2, 1, 'world']\n"
     ]
    }
   ],
   "source": [
    "\"\"\"Play with some of the list functions. You can find the methods you can call on an object via the dir and get information about them via the help command: \"\"\"\n",
    "list=[1,2,\"hello\",\"where\",55.7]\n",
    "print(list)\n",
    "list.reverse()\n",
    "print(list)\n",
    "list.append(\"world\")\n",
    "print(list)\n",
    "list.pop(1)\n",
    "print(list)"
   ]
  },
  {
   "cell_type": "code",
   "execution_count": 21,
   "metadata": {},
   "outputs": [
    {
     "name": "stdout",
     "output_type": "stream",
     "text": [
      "2\n"
     ]
    }
   ],
   "source": [
    "\"\"\"Write a Python program to count the number of strings where the string length is 2 or more and the first and last character are same from a given list of strings. \n",
    "Sample List : ['abc', 'xyz', 'aba', '1221']\n",
    "Expected Result : 2.  \"\"\"\n",
    "list= ['abc', 'xyz', 'aba', '1221']\n",
    "def List(r):\n",
    "  m = 0\n",
    "  for k in r:\n",
    "    if len(k) > 1 and k[0] == k[-1]:\n",
    "      m += 1\n",
    "  return m\n",
    "print(List (list))\n",
    "\n",
    "\n"
   ]
  },
  {
   "cell_type": "code",
   "execution_count": 53,
   "metadata": {},
   "outputs": [
    {
     "name": "stdout",
     "output_type": "stream",
     "text": [
      "{'Name': 'saima', 'Education': 'BSCS_Continue', 'Age': '23'}\n",
      "{'Table': 1, 'Chair': 1, 'Cup': 1}\n",
      "yasir\n",
      "dict_items([])\n"
     ]
    }
   ],
   "source": [
    "\"\"\"Use dir and help to learn about the functions you can call on dictionaries and implement it.  \n",
    "\"\"\"\n",
    "n = {\"Name1\": \"Yasir hasnain\",\"Name2\": \"yaqoob\",\"Name\": \"sarwar\"}\n",
    "n.clear()\n",
    "n2 = {\"Name\":\"yasir\",\"Education\":\"BSCS\",\"Age\":\"21\"}\n",
    "o = name2.copy()\n",
    "print(o)\n",
    "p={\"Table\":\"Red\",\"Chair\":\"Blue\",\"Cup\":\"black\"}\n",
    "q=1\n",
    "o = dict.fromkeys(p,q)\n",
    "print(o)\n",
    "r= n2.get(\"Name\")\n",
    "print(r)\n",
    "s = n.items()\n",
    "print(s)"
   ]
  },
  {
   "cell_type": "code",
   "execution_count": 24,
   "metadata": {},
   "outputs": [
    {
     "name": "stdout",
     "output_type": "stream",
     "text": [
      "{1: 10, 2: 20, 3: 30, 4: 40, 5: 50, 6: 60}\n"
     ]
    }
   ],
   "source": [
    "\"\"\"Write a Python script to concatenate following dictionaries to create a new one.  \n",
    "Sample Dictionary :\n",
    "dic1={1:10, 2:20}\n",
    "dic2={3:30, 4:40}\n",
    "dic3={5:50,6:60}\n",
    "Expected Result : {1: 10, 2: 20, 3: 30, 4: 40, 5: 50, 6: 60}\n",
    "\"\"\"\n",
    "a={1:10, 2:20}\n",
    "b={3:30, 4:40}\n",
    "c={5:50,6:60}\n",
    "d= {}\n",
    "for e in (a,b,c):\n",
    " d.update(e)\n",
    "print(d)\n"
   ]
  },
  {
   "cell_type": "code",
   "execution_count": 31,
   "metadata": {},
   "outputs": [
    {
     "name": "stdout",
     "output_type": "stream",
     "text": [
      "['heLLo', 'gloRiouS', 'EduCATtion', 'wORLd', 'syMTOMps']\n",
      "glorious\n",
      "educattion\n",
      "symtomps\n"
     ]
    }
   ],
   "source": [
    "\"\"\"Write a list comprehension which, from a list, generates a lowercased version of each string that has length greater than five.  \"\"\"\n",
    "list=[\"heLLo\", \"gloRiouS\",'EduCATtion',\"wORLd\" ,\"syMTOMps\"]\n",
    "print(list)\n",
    "for i in range(len(list)):\n",
    "    if len(list[i])>5:\n",
    "        print(list[i].lower())"
   ]
  },
  {
   "cell_type": "code",
   "execution_count": 37,
   "metadata": {},
   "outputs": [
    {
     "name": "stdout",
     "output_type": "stream",
     "text": [
      "['Green', 'White', 'Black', 'Teapink']\n"
     ]
    }
   ],
   "source": [
    "\"\"\"Write a Python program to print a specified list after removing the 0th, 4th and 5th elements \n",
    "Sample List : ['Red', 'Green', 'White', 'Black', 'Pink', 'Yellow',’Teapink’]\n",
    "Expected Output : ['Green', 'White', 'Black']\n",
    "\"\"\"\n",
    "list= ['Red', 'Green', 'White', 'Black', 'Pink', 'Yellow','Teapink']\n",
    "list= [x for (i,x) in enumerate(list) if i not in (0,4,5)]\n",
    "print(list)\n"
   ]
  },
  {
   "cell_type": "code",
   "execution_count": 38,
   "metadata": {},
   "outputs": [
    {
     "name": "stdout",
     "output_type": "stream",
     "text": [
      "true\n"
     ]
    }
   ],
   "source": [
    "x = 6\n",
    "if (type(x) is int): \n",
    "    print (\"true\") \n",
    "else: \n",
    "    print (\"false\")\n",
    "\n",
    "    "
   ]
  },
  {
   "cell_type": "code",
   "execution_count": 51,
   "metadata": {},
   "outputs": [
    {
     "name": "stdout",
     "output_type": "stream",
     "text": [
      "true\n"
     ]
    }
   ],
   "source": [
    "x = 7.2\n",
    "if (type(x) is not int): \n",
    "    print (\"true\") \n",
    "else: \n",
    "    print (\"false\") \n"
   ]
  },
  {
   "cell_type": "code",
   "execution_count": 40,
   "metadata": {},
   "outputs": [
    {
     "name": "stdout",
     "output_type": "stream",
     "text": [
      "not overlapping\n"
     ]
    }
   ],
   "source": [
    "#Membership operator:\n",
    "list1=[1,2,3,4,5] \n",
    "list2=[6,7,8,9] \n",
    "for item in list1: \n",
    "    if item in list2: \n",
    "        print(\"overlapping\")     \n",
    "else: \n",
    "    print(\"not overlapping\")\n"
   ]
  },
  {
   "cell_type": "code",
   "execution_count": 50,
   "metadata": {},
   "outputs": [
    {
     "name": "stdout",
     "output_type": "stream",
     "text": [
      "floor divide 3200000\n",
      "exponent= 3200000\n"
     ]
    }
   ],
   "source": [
    "#Floor division and  Exponent and Assign\n",
    "a//=3\n",
    "a**=5\n",
    "print(\"floor divide\",a)\n",
    "print(\"exponent=\",a)\n"
   ]
  },
  {
   "cell_type": "code",
   "execution_count": 48,
   "metadata": {},
   "outputs": [
    {
     "name": "stdout",
     "output_type": "stream",
     "text": [
      "Line 1 12\n",
      "Line 2  61\n",
      "Line 3  49\n",
      "Line 4 -61\n",
      "Line 5  240\n",
      "Line 6 - 15\n"
     ]
    }
   ],
   "source": [
    "a = 60\t#/* 60 = 0011 1100 */  \n",
    "b = 13\t#/* 13 = 0000 1101 */\n",
    "c = 0           \n",
    " \n",
    "c = a & b       #/* 12 = 0000 1100 */ \n",
    "print(\"Line 1\", c )\n",
    "\n",
    "c = a | b       #/* 61 = 0011 1101 */\n",
    "print(\"Line 2 \", c )\n",
    "\n",
    "c = a ^ b       #/* 49 = 0011 0001 */\n",
    "print(\"Line 3 \", c )\n",
    "\n",
    "c = ~a        # /*-61 = 1100 0011 */\n",
    "print(\"Line 4\", c )\n",
    "\n",
    "c = a << 2     #/* 240 = 1111 0000 */\n",
    "print(\"Line 5 \", c );\n",
    "\n",
    "c = a >> 2     #/* 15 = 0000 1111 */\n",
    "print(\"Line 6 -\", c );\n"
   ]
  },
  {
   "cell_type": "code",
   "execution_count": null,
   "metadata": {},
   "outputs": [],
   "source": []
  }
 ],
 "metadata": {
  "kernelspec": {
   "display_name": "Python 3",
   "language": "python",
   "name": "python3"
  },
  "language_info": {
   "codemirror_mode": {
    "name": "ipython",
    "version": 3
   },
   "file_extension": ".py",
   "mimetype": "text/x-python",
   "name": "python",
   "nbconvert_exporter": "python",
   "pygments_lexer": "ipython3",
   "version": "3.6.5"
  }
 },
 "nbformat": 4,
 "nbformat_minor": 2
}
