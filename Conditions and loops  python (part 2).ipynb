{
 "cells": [
  {
   "cell_type": "code",
   "execution_count": 2,
   "metadata": {},
   "outputs": [
    {
     "name": "stdout",
     "output_type": "stream",
     "text": [
      "enter Marks85\n",
      "Congratulations!you got B grade \n"
     ]
    }
   ],
   "source": [
    "'''Write a python program to take marks as input from student and print their corresponding grades.  \n",
    "Criteria is given below. \n",
    "90 and above A ,80 to 89    B 60 to 79 C 33 – 59 F Expected output: Input: marks : 85 Congratulations!you got B grad .'''\n",
    "marks=int(input(\"enter Marks\"))\n",
    "if (marks >=90):\n",
    "   print (\"Congratulations!you got A grade \")\n",
    " \n",
    "elif (marks >=80 and marks<90):\n",
    "   print (\"Congratulations!you got B grade \")\n",
    "   \n",
    "elif (marks >=60 and marks<80):\n",
    "   print (\"Congratulations!you got C grade \")\n",
    "\n",
    "elif (marks >=33 and marks<60):\n",
    "   print (\"you got F grade \")"
   ]
  },
  {
   "cell_type": "code",
   "execution_count": 3,
   "metadata": {},
   "outputs": [
    {
     "name": "stdout",
     "output_type": "stream",
     "text": [
      "for entering temp in celcius press 1 \n",
      " for fahrenheit press 2 1\n",
      "enter temp60\n",
      "fahrenheit 140.0\n"
     ]
    }
   ],
   "source": [
    "\"\"\"Write a Python program to convert temperatures to and from celsius, Fahrenheit. Formula : c/5 = f-32/9 Expected Output : Enter temp in Celsius: 60°C Temperature in Fahrenheit is :140  Q\n",
    "\"\"\"\n",
    "i=int(input(\"for entering temp in celcius press 1 \\n for fahrenheit press 2 \"))\n",
    "temp=int(input(\"enter temp\"))\n",
    "count=0\n",
    "celcius=((temp-32)*5)/9\n",
    "fahrenheit=((temp/5)*9)+32\n",
    "\n",
    "if i==1:\n",
    "    print(\"fahrenheit\",fahrenheit)\n",
    "    count=1\n",
    "if i==2:    \n",
    "    print(\"celcius\", celcius)\n",
    "    count=1\n",
    "if count==0:\n",
    "    print(\"invalid input\")"
   ]
  },
  {
   "cell_type": "code",
   "execution_count": 11,
   "metadata": {},
   "outputs": [
    {
     "name": "stdout",
     "output_type": "stream",
     "text": [
      " The no of Even numbers in series are : 4\n",
      " The no of Odd numbers in series are : 6\n"
     ]
    }
   ],
   "source": [
    "\"\"\"Write a Python program to count the number of even and odd numbers from a series of numbers.\n",
    "Designed by: Hira Farman\n",
    "Let’s numbers be: 2, 4, 5, 7, 8, 9,11, 14,15,17 Output : The no of Even numbers in series are : 4 The no of Odd numbers in series are:6\n",
    "\"\"\"\n",
    "list=[ 2, 4, 5, 7, 8, 9,11, 14,15,17]\n",
    "even=0\n",
    "odd=0\n",
    "for i in range(len(list)):\n",
    "    if(list[i]%2==0):\n",
    "        even=even+1\n",
    "    elif (list[i]%2==1):\n",
    "           odd=odd+1\n",
    "print(\" The no of Even numbers in series are :\" , even)\n",
    "print(\" The no of Odd numbers in series are :\" , odd)"
   ]
  },
  {
   "cell_type": "code",
   "execution_count": null,
   "metadata": {},
   "outputs": [],
   "source": [
    "\n"
   ]
  }
 ],
 "metadata": {
  "kernelspec": {
   "display_name": "Python 3",
   "language": "python",
   "name": "python3"
  },
  "language_info": {
   "codemirror_mode": {
    "name": "ipython",
    "version": 3
   },
   "file_extension": ".py",
   "mimetype": "text/x-python",
   "name": "python",
   "nbconvert_exporter": "python",
   "pygments_lexer": "ipython3",
   "version": "3.6.5"
  }
 },
 "nbformat": 4,
 "nbformat_minor": 2
}
